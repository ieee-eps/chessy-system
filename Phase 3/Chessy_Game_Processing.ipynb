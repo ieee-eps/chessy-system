{
  "nbformat": 4,
  "nbformat_minor": 0,
  "metadata": {
    "colab": {
      "provenance": []
    },
    "kernelspec": {
      "name": "python3",
      "display_name": "Python 3"
    },
    "language_info": {
      "name": "python"
    }
  },
  "cells": [
    {
      "cell_type": "code",
      "source": [
        "pip install zstandard python-chess\n"
      ],
      "metadata": {
        "colab": {
          "base_uri": "https://localhost:8080/"
        },
        "id": "zAiVgjfKZOhU",
        "outputId": "ead05595-3cf4-464a-d796-a08f08840a51"
      },
      "execution_count": 2,
      "outputs": [
        {
          "output_type": "stream",
          "name": "stdout",
          "text": [
            "Collecting zstandard\n",
            "  Downloading zstandard-0.23.0-cp310-cp310-manylinux_2_17_x86_64.manylinux2014_x86_64.whl.metadata (3.0 kB)\n",
            "Collecting python-chess\n",
            "  Downloading python_chess-1.999-py3-none-any.whl.metadata (776 bytes)\n",
            "Collecting chess<2,>=1 (from python-chess)\n",
            "  Downloading chess-1.11.1.tar.gz (156 kB)\n",
            "\u001b[2K     \u001b[90m━━━━━━━━━━━━━━━━━━━━━━━━━━━━━━━━━━━━━━━━\u001b[0m \u001b[32m156.5/156.5 kB\u001b[0m \u001b[31m9.5 MB/s\u001b[0m eta \u001b[36m0:00:00\u001b[0m\n",
            "\u001b[?25h  Preparing metadata (setup.py) ... \u001b[?25l\u001b[?25hdone\n",
            "Downloading zstandard-0.23.0-cp310-cp310-manylinux_2_17_x86_64.manylinux2014_x86_64.whl (5.4 MB)\n",
            "\u001b[2K   \u001b[90m━━━━━━━━━━━━━━━━━━━━━━━━━━━━━━━━━━━━━━━━\u001b[0m \u001b[32m5.4/5.4 MB\u001b[0m \u001b[31m91.3 MB/s\u001b[0m eta \u001b[36m0:00:00\u001b[0m\n",
            "\u001b[?25hDownloading python_chess-1.999-py3-none-any.whl (1.4 kB)\n",
            "Building wheels for collected packages: chess\n",
            "  Building wheel for chess (setup.py) ... \u001b[?25l\u001b[?25hdone\n",
            "  Created wheel for chess: filename=chess-1.11.1-py3-none-any.whl size=148497 sha256=a8b809bbd9b267d81d13f934f3768cf98124bf3a708348f03af89a07b9e45099\n",
            "  Stored in directory: /root/.cache/pip/wheels/2e/2d/23/1bfc95db984ed3ecbf6764167dc7526d0ab521cf9a9852544e\n",
            "Successfully built chess\n",
            "Installing collected packages: zstandard, chess, python-chess\n",
            "Successfully installed chess-1.11.1 python-chess-1.999 zstandard-0.23.0\n"
          ]
        }
      ]
    },
    {
      "cell_type": "code",
      "source": [
        "import zstandard as zstd\n",
        "\n",
        "# Path to the compressed file\n",
        "compressed_file = \"lichess_db_standard_rated_2013-07.pgn.zst\"\n",
        "decompressed_file = \"lichess_db_standard_rated_2013-07.pgn\"\n",
        "\n",
        "# Decompress the file\n",
        "with open(compressed_file, \"rb\") as compressed, open(decompressed_file, \"wb\") as decompressed:\n",
        "    dctx = zstd.ZstdDecompressor()\n",
        "    dctx.copy_stream(compressed, decompressed)\n",
        "\n",
        "print(\"Decompression complete!\")\n"
      ],
      "metadata": {
        "colab": {
          "base_uri": "https://localhost:8080/"
        },
        "id": "ReE8lzPXZCme",
        "outputId": "950e8675-695c-43c9-9a60-9061893a3d6c"
      },
      "execution_count": 3,
      "outputs": [
        {
          "output_type": "stream",
          "name": "stdout",
          "text": [
            "Decompression complete!\n"
          ]
        }
      ]
    },
    {
      "cell_type": "code",
      "execution_count": 4,
      "metadata": {
        "id": "L3vsvsY2GRKO",
        "colab": {
          "base_uri": "https://localhost:8080/"
        },
        "outputId": "f383ce7d-9f9e-432c-fa06-aedb1fc22e98"
      },
      "outputs": [
        {
          "output_type": "stream",
          "name": "stdout",
          "text": [
            "   white_elo  black_elo result                                 opening  \\\n",
            "0       1685       1577    0-1  Benoni Defense: Benoni Gambit Accepted   \n",
            "1       1616       1421    1-0        French Defense: Knight Variation   \n",
            "2       1629       2001    1-0                          Mieses Opening   \n",
            "3       1562       1709    1-0                            Giuoco Piano   \n",
            "4       1593       1761    0-1                     East Indian Defense   \n",
            "\n",
            "    termination  total_moves  \n",
            "0  Time forfeit           26  \n",
            "1  Time forfeit           33  \n",
            "2        Normal           83  \n",
            "3  Time forfeit            9  \n",
            "4        Normal           90  \n"
          ]
        }
      ],
      "source": [
        "import chess.pgn\n",
        "import pandas as pd\n",
        "\n",
        "# Open the PGN file\n",
        "pgn = open(\"lichess_db_standard_rated_2013-07.pgn\")\n",
        "\n",
        "# Prepare a list to store game data\n",
        "data = []\n",
        "\n",
        "# Iterate through the games\n",
        "while True:\n",
        "    game = chess.pgn.read_game(pgn)\n",
        "    if game is None:  # End of file\n",
        "        break\n",
        "\n",
        "    # Extract metadata\n",
        "    try:\n",
        "        white_elo = int(game.headers.get(\"WhiteElo\", 0))\n",
        "        black_elo = int(game.headers.get(\"BlackElo\", 0))\n",
        "        result = game.headers.get(\"Result\")\n",
        "        opening = game.headers.get(\"Opening\", \"Unknown\")\n",
        "        termination = game.headers.get(\"Termination\", \"Unknown\")\n",
        "        moves = len(list(game.mainline_moves()))\n",
        "    except ValueError:\n",
        "        continue  # Skip games with missing or invalid data\n",
        "\n",
        "    # Add to dataset\n",
        "    data.append({\n",
        "        \"white_elo\": white_elo,\n",
        "        \"black_elo\": black_elo,\n",
        "        \"result\": result,\n",
        "        \"opening\": opening,\n",
        "        \"termination\": termination,\n",
        "        \"total_moves\": moves\n",
        "    })\n",
        "\n",
        "# Convert the data into a DataFrame\n",
        "df = pd.DataFrame(data)\n",
        "\n",
        "# Display the first few rows\n",
        "print(df.head())\n",
        "\n",
        "# Save data for future use\n",
        "df.to_csv(\"chess_games.csv\", index=False)\n"
      ]
    },
    {
      "cell_type": "code",
      "source": [
        "# Load the data\n",
        "df = pd.read_csv(\"chess_games.csv\")\n",
        "\n",
        "# Remove invalid or incomplete rows\n",
        "df = df.dropna()\n",
        "\n",
        "# Convert result to numeric (1 = White win, 0 = Draw, -1 = Black win)\n",
        "df[\"result\"] = df[\"result\"].map({\"1-0\": 1, \"0-1\": -1, \"1/2-1/2\": 0})\n",
        "\n",
        "# Filter for games within a specific Elo range (optional)\n",
        "df = df[(df[\"white_elo\"] >= 1000) & (df[\"white_elo\"] <= 2000)]\n",
        "df = df[(df[\"black_elo\"] >= 1000) & (df[\"black_elo\"] <= 2000)]\n",
        "\n",
        "print(df.info())"
      ],
      "metadata": {
        "id": "EH3k6jxQGySY",
        "colab": {
          "base_uri": "https://localhost:8080/"
        },
        "outputId": "550abb2f-eada-4b01-c693-e359f8fcf8cb"
      },
      "execution_count": 5,
      "outputs": [
        {
          "output_type": "stream",
          "name": "stdout",
          "text": [
            "<class 'pandas.core.frame.DataFrame'>\n",
            "Index: 271830 entries, 0 to 293139\n",
            "Data columns (total 6 columns):\n",
            " #   Column       Non-Null Count   Dtype \n",
            "---  ------       --------------   ----- \n",
            " 0   white_elo    271830 non-null  int64 \n",
            " 1   black_elo    271830 non-null  int64 \n",
            " 2   result       271830 non-null  int64 \n",
            " 3   opening      271830 non-null  object\n",
            " 4   termination  271830 non-null  object\n",
            " 5   total_moves  271830 non-null  int64 \n",
            "dtypes: int64(4), object(2)\n",
            "memory usage: 14.5+ MB\n",
            "None\n"
          ]
        }
      ]
    },
    {
      "cell_type": "code",
      "source": [
        "# Extract useful features\n",
        "df[\"elo_difference\"] = df[\"white_elo\"] - df[\"black_elo\"]\n",
        "df[\"is_white_higher_rated\"] = (df[\"white_elo\"] > df[\"black_elo\"]).astype(int)\n",
        "\n",
        "# One-hot encode openings\n",
        "df_openings = pd.get_dummies(df[\"opening\"], prefix=\"opening\")\n",
        "df = pd.concat([df, df_openings], axis=1)\n",
        "\n",
        "# Drop unused columns\n",
        "df = df.drop([\"opening\", \"termination\"], axis=1)\n",
        "\n",
        "print(df.head())"
      ],
      "metadata": {
        "id": "CyWcymJfG3z5",
        "colab": {
          "base_uri": "https://localhost:8080/"
        },
        "outputId": "8fc4cca5-d5b0-4346-9adb-6b3497806334"
      },
      "execution_count": 6,
      "outputs": [
        {
          "output_type": "stream",
          "name": "stdout",
          "text": [
            "   white_elo  black_elo  result  total_moves  elo_difference  \\\n",
            "0       1685       1577      -1           26             108   \n",
            "1       1616       1421       1           33             195   \n",
            "3       1562       1709       1            9            -147   \n",
            "4       1593       1761      -1           90            -168   \n",
            "5       1353       1270      -1           68              83   \n",
            "\n",
            "   is_white_higher_rated  opening_Alekhine Defense  \\\n",
            "0                      1                     False   \n",
            "1                      1                     False   \n",
            "3                      0                     False   \n",
            "4                      0                     False   \n",
            "5                      1                     False   \n",
            "\n",
            "   opening_Alekhine Defense #2  opening_Alekhine Defense #3  \\\n",
            "0                        False                        False   \n",
            "1                        False                        False   \n",
            "3                        False                        False   \n",
            "4                        False                        False   \n",
            "5                        False                        False   \n",
            "\n",
            "   opening_Alekhine Defense: Balogh Variation  ...  \\\n",
            "0                                       False  ...   \n",
            "1                                       False  ...   \n",
            "3                                       False  ...   \n",
            "4                                       False  ...   \n",
            "5                                       False  ...   \n",
            "\n",
            "   opening_Zukertort Opening: Sicilian Invitation  \\\n",
            "0                                           False   \n",
            "1                                           False   \n",
            "3                                           False   \n",
            "4                                           False   \n",
            "5                                           False   \n",
            "\n",
            "   opening_Zukertort Opening: Slav Invitation  \\\n",
            "0                                       False   \n",
            "1                                       False   \n",
            "3                                       False   \n",
            "4                                       False   \n",
            "5                                       False   \n",
            "\n",
            "   opening_Zukertort Opening: Speelsmet Gambit  \\\n",
            "0                                        False   \n",
            "1                                        False   \n",
            "3                                        False   \n",
            "4                                        False   \n",
            "5                                        False   \n",
            "\n",
            "   opening_Zukertort Opening: St. George Defense  \\\n",
            "0                                          False   \n",
            "1                                          False   \n",
            "3                                          False   \n",
            "4                                          False   \n",
            "5                                          False   \n",
            "\n",
            "   opening_Zukertort Opening: Tennison Gambit  \\\n",
            "0                                       False   \n",
            "1                                       False   \n",
            "3                                       False   \n",
            "4                                       False   \n",
            "5                                       False   \n",
            "\n",
            "   opening_Zukertort Opening: The Potato  \\\n",
            "0                                  False   \n",
            "1                                  False   \n",
            "3                                  False   \n",
            "4                                  False   \n",
            "5                                  False   \n",
            "\n",
            "   opening_Zukertort Opening: The Walrus  \\\n",
            "0                                  False   \n",
            "1                                  False   \n",
            "3                                  False   \n",
            "4                                  False   \n",
            "5                                  False   \n",
            "\n",
            "   opening_Zukertort Opening: Vos Gambit  \\\n",
            "0                                  False   \n",
            "1                                  False   \n",
            "3                                  False   \n",
            "4                                  False   \n",
            "5                                  False   \n",
            "\n",
            "   opening_Zukertort Opening: Wade Defense  \\\n",
            "0                                    False   \n",
            "1                                    False   \n",
            "3                                    False   \n",
            "4                                    False   \n",
            "5                                    False   \n",
            "\n",
            "   opening_Zukertort Opening: Ware Defense  \n",
            "0                                    False  \n",
            "1                                    False  \n",
            "3                                    False  \n",
            "4                                    False  \n",
            "5                                    False  \n",
            "\n",
            "[5 rows x 2165 columns]\n"
          ]
        }
      ]
    },
    {
      "cell_type": "code",
      "source": [
        "from sklearn.model_selection import train_test_split\n",
        "from sklearn.ensemble import RandomForestClassifier\n",
        "from sklearn.metrics import classification_report, confusion_matrix\n",
        "\n",
        "# Split the data\n",
        "X = df.drop(\"result\", axis=1)  # Features\n",
        "y = df[\"result\"]  # Target variable\n",
        "\n",
        "X_train, X_test, y_train, y_test = train_test_split(X, y, test_size=0.3, random_state=42)\n",
        "\n",
        "# Train a Random Forest Classifier\n",
        "model = RandomForestClassifier(random_state=42, n_estimators=100)\n",
        "model.fit(X_train, y_train)\n",
        "\n",
        "# Predict and evaluate\n",
        "y_pred = model.predict(X_test)\n",
        "print(confusion_matrix(y_test, y_pred))\n",
        "print(classification_report(y_test, y_pred))"
      ],
      "metadata": {
        "id": "PxmOhLTDHMQl",
        "colab": {
          "base_uri": "https://localhost:8080/"
        },
        "outputId": "e7125e84-aec0-4dfa-c89a-01615142882b"
      },
      "execution_count": 7,
      "outputs": [
        {
          "output_type": "stream",
          "name": "stdout",
          "text": [
            "[[23189   130 13832]\n",
            " [ 1344    58  1318]\n",
            " [12411   126 29141]]\n",
            "              precision    recall  f1-score   support\n",
            "\n",
            "          -1       0.63      0.62      0.63     37151\n",
            "           0       0.18      0.02      0.04      2720\n",
            "           1       0.66      0.70      0.68     41678\n",
            "\n",
            "    accuracy                           0.64     81549\n",
            "   macro avg       0.49      0.45      0.45     81549\n",
            "weighted avg       0.63      0.64      0.63     81549\n",
            "\n"
          ]
        }
      ]
    },
    {
      "cell_type": "code",
      "source": [
        "from sklearn.cluster import KMeans\n",
        "from sklearn.decomposition import PCA\n",
        "import matplotlib.pyplot as plt\n",
        "\n",
        "# Select features for clustering\n",
        "X_cluster = df[[\"white_elo\", \"black_elo\", \"elo_difference\", \"total_moves\"]]\n",
        "\n",
        "# Apply K-Means\n",
        "kmeans = KMeans(n_clusters=3, random_state=42)\n",
        "df[\"cluster\"] = kmeans.fit_predict(X_cluster)\n",
        "\n",
        "# Visualize clusters using PCA\n",
        "pca = PCA(n_components=2)\n",
        "X_reduced = pca.fit_transform(X_cluster)\n",
        "\n",
        "plt.scatter(X_reduced[:, 0], X_reduced[:, 1], c=df[\"cluster\"], cmap=\"viridis\")\n",
        "plt.title(\"Clustering of Chess Games\")\n",
        "plt.xlabel(\"PCA Component 1\")\n",
        "plt.ylabel(\"PCA Component 2\")\n",
        "plt.show()"
      ],
      "metadata": {
        "id": "tZeRtw0NHRq3",
        "colab": {
          "base_uri": "https://localhost:8080/",
          "height": 472
        },
        "outputId": "60023e1f-4048-40f5-a5cf-ebec4798eb4b"
      },
      "execution_count": 8,
      "outputs": [
        {
          "output_type": "display_data",
          "data": {
            "text/plain": [
              "<Figure size 640x480 with 1 Axes>"
            ],
            "image/png": "[encoded data removed]"
          },
          "metadata": {}
        }
      ]
    },
    {
      "cell_type": "code",
      "source": [
        "# Cluster labels are already assigned in df[\"cluster\"]\n",
        "print(df.groupby(\"cluster\").mean())  # View the average values of features in each cluster\n"
      ],
      "metadata": {
        "colab": {
          "base_uri": "https://localhost:8080/"
        },
        "id": "7TE9LJWmlWx3",
        "outputId": "3edc6857-9510-445b-935b-daaa57898fae"
      },
      "execution_count": 10,
      "outputs": [
        {
          "output_type": "stream",
          "name": "stdout",
          "text": [
            "           white_elo    black_elo    result  total_moves  elo_difference  \\\n",
            "cluster                                                                    \n",
            "0        1600.586780  1400.517073  0.423961    61.941412      200.069706   \n",
            "1        1403.848860  1560.135421 -0.266663    63.501336     -156.286561   \n",
            "2        1744.313422  1746.243385  0.032360    72.859595       -1.929963   \n",
            "\n",
            "         is_white_higher_rated  opening_Alekhine Defense  \\\n",
            "cluster                                                    \n",
            "0                     1.000000                  0.002484   \n",
            "1                     0.079387                  0.001658   \n",
            "2                     0.504433                  0.001030   \n",
            "\n",
            "         opening_Alekhine Defense #2  opening_Alekhine Defense #3  \\\n",
            "cluster                                                             \n",
            "0                           0.000487                     0.000024   \n",
            "1                           0.000311                     0.000081   \n",
            "2                           0.000447                     0.000078   \n",
            "\n",
            "         opening_Alekhine Defense: Balogh Variation  ...  \\\n",
            "cluster                                              ...   \n",
            "0                                          0.000085  ...   \n",
            "1                                          0.000092  ...   \n",
            "2                                          0.000068  ...   \n",
            "\n",
            "         opening_Zukertort Opening: Sicilian Invitation  \\\n",
            "cluster                                                   \n",
            "0                                              0.000804   \n",
            "1                                              0.000944   \n",
            "2                                              0.001993   \n",
            "\n",
            "         opening_Zukertort Opening: Slav Invitation  \\\n",
            "cluster                                               \n",
            "0                                          0.000463   \n",
            "1                                          0.000564   \n",
            "2                                          0.000467   \n",
            "\n",
            "         opening_Zukertort Opening: Speelsmet Gambit  \\\n",
            "cluster                                                \n",
            "0                                           0.000000   \n",
            "1                                           0.000012   \n",
            "2                                           0.000000   \n",
            "\n",
            "         opening_Zukertort Opening: St. George Defense  \\\n",
            "cluster                                                  \n",
            "0                                             0.000049   \n",
            "1                                             0.000046   \n",
            "2                                             0.000049   \n",
            "\n",
            "         opening_Zukertort Opening: Tennison Gambit  \\\n",
            "cluster                                               \n",
            "0                                          0.002180   \n",
            "1                                          0.002430   \n",
            "2                                          0.002498   \n",
            "\n",
            "         opening_Zukertort Opening: The Potato  \\\n",
            "cluster                                          \n",
            "0                                     0.000000   \n",
            "1                                     0.000012   \n",
            "2                                     0.000000   \n",
            "\n",
            "         opening_Zukertort Opening: The Walrus  \\\n",
            "cluster                                          \n",
            "0                                     0.000000   \n",
            "1                                     0.000012   \n",
            "2                                     0.000029   \n",
            "\n",
            "         opening_Zukertort Opening: Vos Gambit  \\\n",
            "cluster                                          \n",
            "0                                     0.000158   \n",
            "1                                     0.000092   \n",
            "2                                     0.000078   \n",
            "\n",
            "         opening_Zukertort Opening: Wade Defense  \\\n",
            "cluster                                            \n",
            "0                                       0.000524   \n",
            "1                                       0.000196   \n",
            "2                                       0.000418   \n",
            "\n",
            "         opening_Zukertort Opening: Ware Defense  \n",
            "cluster                                           \n",
            "0                                       0.000085  \n",
            "1                                       0.000023  \n",
            "2                                       0.000000  \n",
            "\n",
            "[3 rows x 2165 columns]\n"
          ]
        }
      ]
    },
    {
      "cell_type": "code",
      "source": [
        "print(df[\"cluster\"].value_counts())\n"
      ],
      "metadata": {
        "colab": {
          "base_uri": "https://localhost:8080/"
        },
        "id": "h6TTnlFvld6z",
        "outputId": "15b912a8-1e4b-4af6-a04f-174ae81f092a"
      },
      "execution_count": 11,
      "outputs": [
        {
          "output_type": "stream",
          "name": "stdout",
          "text": [
            "cluster\n",
            "2    102874\n",
            "1     86840\n",
            "0     82116\n",
            "Name: count, dtype: int64\n"
          ]
        }
      ]
    },
    {
      "cell_type": "code",
      "source": [
        "cluster_summary = df.groupby(\"cluster\").agg({\n",
        "    \"white_elo\": [\"mean\", \"std\"],\n",
        "    \"black_elo\": [\"mean\", \"std\"],\n",
        "    \"total_moves\": [\"mean\", \"std\"],\n",
        "    \"elo_difference\": [\"mean\", \"std\"]\n",
        "})\n",
        "print(cluster_summary)\n"
      ],
      "metadata": {
        "colab": {
          "base_uri": "https://localhost:8080/"
        },
        "id": "bEkOdLHFljRv",
        "outputId": "ff8a5679-d303-4433-907c-d4e659e38f1a"
      },
      "execution_count": 12,
      "outputs": [
        {
          "output_type": "stream",
          "name": "stdout",
          "text": [
            "           white_elo                black_elo             total_moves  \\\n",
            "                mean         std         mean         std        mean   \n",
            "cluster                                                                 \n",
            "0        1600.586780  146.767017  1400.517073  127.959229   61.941412   \n",
            "1        1403.848860  121.457033  1560.135421  146.111520   63.501336   \n",
            "2        1744.313422  108.072583  1746.243385  105.927761   72.859595   \n",
            "\n",
            "                   elo_difference              \n",
            "               std           mean         std  \n",
            "cluster                                        \n",
            "0        31.746337     200.069706  134.442988  \n",
            "1        32.172424    -156.286561  139.550509  \n",
            "2        32.419511      -1.929963  122.098270  \n"
          ]
        }
      ]
    },
    {
      "cell_type": "code",
      "source": [
        "import seaborn as sns\n",
        "\n",
        "sns.boxplot(x=\"cluster\", y=\"white_elo\", data=df)\n",
        "plt.title(\"White Elo Distribution by Cluster\")\n",
        "plt.show()\n",
        "\n",
        "sns.boxplot(x=\"cluster\", y=\"black_elo\", data=df)\n",
        "plt.title(\"Black Elo Distribution by Cluster\")\n",
        "plt.show()\n"
      ],
      "metadata": {
        "colab": {
          "base_uri": "https://localhost:8080/",
          "height": 927
        },
        "id": "olxa1vUulnr7",
        "outputId": "a6655e3d-65a5-405b-dc0f-c1e7d674ac90"
      },
      "execution_count": 16,
      "outputs": [
        {
          "output_type": "display_data",
          "data": {
            "text/plain": [
              "<Figure size 640x480 with 1 Axes>"
            ],
            "image/png": "[encoded data removed]"
          },
          "metadata": {}
        },
        {
          "output_type": "display_data",
          "data": {
            "text/plain": [
              "<Figure size 640x480 with 1 Axes>"
            ],
            "image/png": "[encoded data removed]"
          },
          "metadata": {}
        }
      ]
    },
    {
      "cell_type": "code",
      "source": [
        "sns.boxplot(x=\"cluster\", y=\"total_moves\", data=df)\n",
        "plt.title(\"Total Moves by Cluster\")\n",
        "plt.show()\n"
      ],
      "metadata": {
        "colab": {
          "base_uri": "https://localhost:8080/",
          "height": 472
        },
        "id": "ffBvE0aGm_Hs",
        "outputId": "747cd4fb-be00-4021-846e-c2859b2c3ada"
      },
      "execution_count": 17,
      "outputs": [
        {
          "output_type": "display_data",
          "data": {
            "text/plain": [
              "<Figure size 640x480 with 1 Axes>"
            ],
            "image/png": "[encoded data removed]"
          },
          "metadata": {}
        }
      ]
    },
    {
      "cell_type": "code",
      "source": [
        "# Map cluster numbers to descriptive labels\n",
        "cluster_labels = {\n",
        "    0: \"One-Sided Games\",\n",
        "    1: \"Balanced Games\",\n",
        "    2: \"Complex High-Level Games\"\n",
        "}\n",
        "df[\"cluster_label\"] = df[\"cluster\"].map(cluster_labels)\n",
        "\n",
        "print(df[[\"cluster\", \"cluster_label\"]].head())\n"
      ],
      "metadata": {
        "colab": {
          "base_uri": "https://localhost:8080/"
        },
        "id": "1ssmIUHMnCeA",
        "outputId": "9b7284ef-e239-4d90-b1ac-7cf1dc6323bc"
      },
      "execution_count": 18,
      "outputs": [
        {
          "output_type": "stream",
          "name": "stdout",
          "text": [
            "   cluster             cluster_label\n",
            "0        2  Complex High-Level Games\n",
            "1        0           One-Sided Games\n",
            "3        1            Balanced Games\n",
            "4        2  Complex High-Level Games\n",
            "5        0           One-Sided Games\n"
          ]
        }
      ]
    },
    {
      "cell_type": "code",
      "source": [
        "# Feature importance\n",
        "importances = model.feature_importances_\n",
        "feature_names = X.columns\n",
        "feature_importance = pd.DataFrame({\"Feature\": feature_names, \"Importance\": importances})\n",
        "feature_importance = feature_importance.sort_values(by=\"Importance\", ascending=False)\n",
        "print(feature_importance)"
      ],
      "metadata": {
        "id": "1UQmT4boHVUY",
        "colab": {
          "base_uri": "https://localhost:8080/"
        },
        "outputId": "ca008b28-f398-4547-f2a7-727ce7cb1fb0"
      },
      "execution_count": 9,
      "outputs": [
        {
          "output_type": "stream",
          "name": "stdout",
          "text": [
            "                                                Feature  Importance\n",
            "3                                        elo_difference    0.170064\n",
            "2                                           total_moves    0.159998\n",
            "0                                             white_elo    0.137823\n",
            "1                                             black_elo    0.137698\n",
            "4                                 is_white_higher_rated    0.036845\n",
            "...                                                 ...         ...\n",
            "1025   opening_Lion Defense: Anti-Philidor, Lion's Cave    0.000000\n",
            "246          opening_Caro-Kann Defense: Spike Variation    0.000000\n",
            "867   opening_King's Gambit, Falkbeer Countergambit,...    0.000000\n",
            "868   opening_King's Gambit, Falkbeer Countergambit,...    0.000000\n",
            "211   opening_Caro-Kann Defense: Classical Variation...    0.000000\n",
            "\n",
            "[2164 rows x 2 columns]\n"
          ]
        }
      ]
    }
  ]
}